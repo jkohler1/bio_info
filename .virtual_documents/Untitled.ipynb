import subprocess



GT_file = "Dengue_GT.tsv"
sequence_file = "Dengue.fas"
n_epochs = 35
lambda_value = 2.8
k = 6
n_clusters = 5
n_mimics = 3
batch_sz = 512


command = f'./iDeLUCS/idelucs --sequence_file={sequence_file} --GT_file={GT_file} --n_epochs={n_epochs} --lambda={lambda_value} --k={k} --n_clusters={n_clusters} --n_mimics={n_mimics} --batch_sz={batch_sz}'


subprocess.run(command, shell=True)



