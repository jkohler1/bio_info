import subprocess
import json
import matplotlib.pyplot as plt
import numpy as np
import csv
import seaborn as sns
from matplotlib import colors


GT_file = "Vertebrata_GT.tsv"
sequence_file = "Vertebrata.fas"
n_epochs = 35
lambda_value = 2.8
n_voters = 5
k = 6
n_clusters = 5
n_mimics = 3
batch_sz = 512
is_num = False


command = f'./iDeLUCS/idelucs/__main__.py --sequence_file={sequence_file} --n_epochs={n_epochs} --n_voters={n_voters} --lambda={lambda_value} --k={k} --n_clusters={n_clusters} --n_mimics={n_mimics} --batch_sz={batch_sz}'


subprocess.run(['bash', '-c', command])


def read_file(input_file):
    res_list = []
    # Check the file extension
    if input_file.endswith('.csv') or input_file.endswith('.tsv'):
        # Read TSV file and return content as a list
        with open(input_file, 'r') as file:
            reader = csv.reader(file, delimiter='\t')  # Specify the delimiter as tab
            for row in reader:
                res_list.append(row)
    return res_list



def read_GT_file(input_file,is_num):
    # Lire les données du fichier d'entrée
    list_true = read_file(input_file)
    list_true = list_true[1:]
    dico_name = {}
    indice = 0
    for elem in list_true:
        if elem[2] in dico_name:
            elem[2] = dico_name[elem[2]]
        else:
            dico_name[elem[2]]=indice
            elem[2]=indice
            indice+=1
    return list_true


def confusion_matrix(dico_predicted):
    if(GT_file != ""): #only if GT_file exist
        list_true = read_GT_file(GT_file,is_num)
        #create an empty table
        tableau = np.zeros((n_clusters, n_clusters))
        for elem in list_true:
            true_cluster_id = elem[2]  # Remove [2] index
            sequence_id = elem[1]
            predicted_cluster_id = dico_predicted[sequence_id][1]
            tableau[int(true_cluster_id) - 1][int(predicted_cluster_id)] += 1
    return tableau   
        


def print_confusion_matrix(tableau):
    labels = ['Classe 1', 'Classe 2', 'Classe 3', 'Classe 4', 'Classe 5']

    fig, ax = plt.subplots()
    
    # Création d'une échelle de couleurs personnalisée
    cmap = colors.ListedColormap(['#F2F2F2', '#D3D3D3', '#A9A9D6', '#6B6BA9'])
    
    # Affichage de la matrice de confusion avec imshow()
    im = ax.imshow(tableau, cmap=cmap)
    
    ax.set_xticks(np.arange(len(labels)))
    ax.set_yticks(np.arange(len(labels)))
    ax.set_xticklabels(labels)
    ax.set_yticklabels(labels)
    
    # Affichage des valeurs dans les cellules
    for i in range(len(tableau)):
        for j in range(len(tableau)):
            ax.text(j, i, int(tableau[i, j]), ha="center", va="center", color="black")
    
    ax.set_title("Confusion Matrix")
    ax.set_xlabel("Predicted value")
    ax.set_ylabel("True value")
    
    # Ajout d'une barre de couleur pour l'échelle
    cbar = ax.figure.colorbar(im, ax=ax)
    
    plt.show()


result_dict = {}

# Spécifiez le chemin du fichier de sortie
input_file = './tmp_file'


# Lisez le contenu du fichier JSON
with open(input_file, 'r') as file:
    result_dict = json.load(file)


tableau=confusion_matrix(result_dict['assignment'])
print_confusion_matrix(tableau)






