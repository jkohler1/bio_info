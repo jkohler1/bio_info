import subprocess
import json
import matplotlib.pyplot as plt
import numpy as np
import csv


GT_file = "Vertebrata_GT.tsv"
sequence_file = "Vertebrata.fas"
n_epochs = 35
lambda_value = 2.8
n_voters = 5
k = 6
n_clusters = 5
n_mimics = 3
batch_sz = 512
is_num = False


command = f'./iDeLUCS/idelucs/__main__.py --sequence_file={sequence_file} --n_epochs={n_epochs} --n_voters={n_voters} --lambda={lambda_value} --k={k} --n_clusters={n_clusters} --n_mimics={n_mimics} --batch_sz={batch_sz}'


subprocess.run(['bash', '-c', command])


def read_file(input_file):
    res_list = []
    # Check the file extension
    if input_file.endswith('.csv') or input_file.endswith('.tsv'):
        # Read TSV file and return content as a list
        with open(input_file, 'r') as file:
            reader = csv.reader(file, delimiter='\t')  # Specify the delimiter as tab
            for row in reader:
                res_list.append(row)
    return res_list



def read_GT_file(input_file,is_num):
    # Lire les données du fichier d'entrée
    list_true = read_file(input_file)
    list_true = list_true[1:]
    dico_name = {}
    indice = 0
    for elem in list_true:
        if elem[2] in dico_name:
            elem[2] = dico_name[elem[2]]
        else:
            dico_name[elem[2]]=indice
            elem[2]=indice
            indice+=1
    return list_true


tableau=print_confusion_matrix(result_dict['assignment'])


def print_confusion_matrix(dico_predicted):
    if(GT_file != ""): #only if GT_file exist
        list_true = read_GT_file(GT_file,is_num)
        #create an empty table
        tableau = np.zeros((n_clusters, n_clusters))
        for elem in list_true:
            true_cluster_id = elem[2]  # Remove [2] index
            sequence_id = elem[1]
            predicted_cluster_id = dico_predicted[sequence_id][1]
            tableau[int(true_cluster_id) - 1][int(predicted_cluster_id)] += 1
    return tableau   
        


result_dict = {}

# Spécifiez le chemin du fichier de sortie
input_file = './tmp_file'


# Lisez le contenu du fichier JSON
with open(input_file, 'r') as file:
    result_dict = json.load(file)


# Labels des classes
labels = ['Classe 1', 'Classe 2', 'Classe 3', 'Classe 4', 'Classe 5']

# Création de la figure et de l'axe
fig, ax = plt.subplots()

# Affichage de la matrice de confusion avec imshow()
ax.imshow(tableau, cmap='Blues')

# Configuration des axes
ax.set_xticks(np.arange(len(labels)))
ax.set_yticks(np.arange(len(labels)))
ax.set_xticklabels(labels)
ax.set_yticklabels(labels)
plt.setp(ax.get_xticklabels(), rotation=45, ha="right", rotation_mode="anchor")

# Affichage des valeurs dans les cellules
for i in range(len(tableau)):
    for j in range(len(tableau)):
        ax.text(j, i, tableau[i, j], ha="center", va="center", color="w")

# Titre et labels des axes
ax.set_title("Matrice de Confusion")
ax.set_xlabel("Valeurs Prédites")
ax.set_ylabel("Valeurs Réelles")

# Affichage de la figure
plt.show()


tableau


tableau[1][1]



