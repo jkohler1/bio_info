{
 "cells": [
  {
   "cell_type": "code",
   "execution_count": 196,
   "id": "6d00e3b8-ebfb-4f43-97f6-30af4743173c",
   "metadata": {
    "scrolled": true
   },
   "outputs": [],
   "source": [
    "import subprocess\n",
    "import json\n",
    "import matplotlib.pyplot as plt\n",
    "import numpy as np\n",
    "import csv"
   ]
  },
  {
   "cell_type": "code",
   "execution_count": 233,
   "id": "a8fb05d6-584b-4d50-96fe-d59b69723af5",
   "metadata": {},
   "outputs": [],
   "source": [
    "GT_file = \"Vertebrata_GT.tsv\"\n",
    "sequence_file = \"Vertebrata.fas\"\n",
    "n_epochs = 35\n",
    "lambda_value = 2.8\n",
    "n_voters = 5\n",
    "k = 6\n",
    "n_clusters = 5\n",
    "n_mimics = 3\n",
    "batch_sz = 512\n",
    "is_num = False"
   ]
  },
  {
   "cell_type": "code",
   "execution_count": 198,
   "id": "631c407c-4787-4a77-b901-ca55febeba36",
   "metadata": {},
   "outputs": [],
   "source": [
    "command = f'./iDeLUCS/idelucs/__main__.py --sequence_file={sequence_file} --n_epochs={n_epochs} --n_voters={n_voters} --lambda={lambda_value} --k={k} --n_clusters={n_clusters} --n_mimics={n_mimics} --batch_sz={batch_sz}'"
   ]
  },
  {
   "cell_type": "code",
   "execution_count": 199,
   "id": "005f0cd7-7bb7-46f6-bc3a-ad82bd5bf7f7",
   "metadata": {},
   "outputs": [
    {
     "name": "stdout",
     "output_type": "stream",
     "text": [
      "\n",
      "Training Parameters:\n",
      "sequence_file \t -> Vertebrata.fas\n",
      "n_clusters \t -> 5\n",
      "n_epochs \t -> 35\n",
      "n_mimics \t -> 3\n",
      "batch_sz \t -> 512\n",
      "GT_file \t -> None\n",
      "k \t -> 6\n",
      "optimizer \t -> RMSprop\n",
      "scheduler \t -> None\n",
      "weight \t -> 0.25\n",
      "lambda \t -> 2.8\n",
      "lr \t -> 0.001\n",
      "n_voters \t -> 5\n",
      "model_size \t -> linear\n",
      "plot \t -> False\n",
      "None\n",
      "No. Sequences: \t 2,500\n",
      "Min. Length: \t 14,127\n",
      "Max. Length: \t 24,317\n",
      "Avg. Length: \t 16,929.48\n",
      "........... Training Model (5/5)................"
     ]
    },
    {
     "name": "stderr",
     "output_type": "stream",
     "text": [
      "/prog/anaconda3/lib/python3.10/site-packages/idelucs/utils.py:588: RuntimeWarning: divide by zero encountered in divide\n",
      "  D = 1.0 / euclidean_distances(features - _sums, cluster.cluster_centers_, squared=True)\n",
      "/prog/anaconda3/lib/python3.10/site-packages/idelucs/utils.py:590: RuntimeWarning: invalid value encountered in divide\n",
      "  D /= np.sum(D, axis=1)[:, np.newaxis]\n"
     ]
    },
    {
     "name": "stdout",
     "output_type": "stream",
     "text": [
      "........... Computing Results ................{'Davies-Boulding': 1.16665744380794, 'Silhouette-Score': 0.5242352591647227}\n",
      "........ Saving Results ..............\n",
      "hihi\n"
     ]
    },
    {
     "data": {
      "text/plain": [
       "CompletedProcess(args=['bash', '-c', './iDeLUCS/idelucs/__main__.py --sequence_file=Vertebrata.fas --n_epochs=35 --n_voters=5 --lambda=2.8 --k=6 --n_clusters=5 --n_mimics=3 --batch_sz=512'], returncode=0)"
      ]
     },
     "execution_count": 199,
     "metadata": {},
     "output_type": "execute_result"
    }
   ],
   "source": [
    "subprocess.run(['bash', '-c', command])"
   ]
  },
  {
   "cell_type": "code",
   "execution_count": 200,
   "id": "93091e61-dcf8-41e6-824f-114fea71647d",
   "metadata": {},
   "outputs": [],
   "source": [
    "def read_file(input_file):\n",
    "    res_list = []\n",
    "    # Check the file extension\n",
    "    if input_file.endswith('.csv') or input_file.endswith('.tsv'):\n",
    "        # Read TSV file and return content as a list\n",
    "        with open(input_file, 'r') as file:\n",
    "            reader = csv.reader(file, delimiter='\\t')  # Specify the delimiter as tab\n",
    "            for row in reader:\n",
    "                res_list.append(row)\n",
    "    return res_list\n"
   ]
  },
  {
   "cell_type": "code",
   "execution_count": 245,
   "id": "7dc54527-b65a-4258-b8f2-f167ab14a175",
   "metadata": {},
   "outputs": [],
   "source": [
    "def read_GT_file(input_file,is_num):\n",
    "    # Lire les données du fichier d'entrée\n",
    "    list_true = read_file(input_file)\n",
    "    list_true = list_true[1:]\n",
    "    dico_name = {}\n",
    "    indice = 0\n",
    "    for elem in list_true:\n",
    "        if elem[2] in dico_name:\n",
    "            elem[2] = dico_name[elem[2]]\n",
    "        else:\n",
    "            dico_name[elem[2]]=indice\n",
    "            elem[2]=indice\n",
    "            indice+=1\n",
    "    return list_true"
   ]
  },
  {
   "cell_type": "code",
   "execution_count": 251,
   "id": "7d17bb5c-ba3c-4332-878d-c8196e9f1b68",
   "metadata": {},
   "outputs": [],
   "source": [
    "tableau=print_confusion_matrix(result_dict['assignment'])"
   ]
  },
  {
   "cell_type": "code",
   "execution_count": 252,
   "id": "4e5a2aef-a488-4a5b-9589-b476205177a2",
   "metadata": {},
   "outputs": [],
   "source": [
    "def print_confusion_matrix(dico_predicted):\n",
    "    if(GT_file != \"\"): #only if GT_file exist\n",
    "        list_true = read_GT_file(GT_file,is_num)\n",
    "        #create an empty table\n",
    "        tableau = np.zeros((n_clusters, n_clusters))\n",
    "        for elem in list_true:\n",
    "            true_cluster_id = elem[2]  # Remove [2] index\n",
    "            sequence_id = elem[1]\n",
    "            predicted_cluster_id = dico_predicted[sequence_id][1]\n",
    "            tableau[int(true_cluster_id) - 1][int(predicted_cluster_id)] += 1\n",
    "    return tableau   \n",
    "        "
   ]
  },
  {
   "cell_type": "code",
   "execution_count": 202,
   "id": "872213b6-f175-4667-8bb9-47e417a753ba",
   "metadata": {},
   "outputs": [],
   "source": [
    "result_dict = {}\n",
    "\n",
    "# Spécifiez le chemin du fichier de sortie\n",
    "input_file = './tmp_file'\n",
    "\n",
    "\n",
    "# Lisez le contenu du fichier JSON\n",
    "with open(input_file, 'r') as file:\n",
    "    result_dict = json.load(file)"
   ]
  },
  {
   "cell_type": "code",
   "execution_count": 253,
   "id": "0ef9b5ef-134a-4847-ab08-e91f28bff91c",
   "metadata": {},
   "outputs": [
    {
     "data": {
      "image/png": "[encoded data removed]",
      "text/plain": [
       "<Figure size 640x480 with 1 Axes>"
      ]
     },
     "metadata": {},
     "output_type": "display_data"
    }
   ],
   "source": [
    "# Labels des classes\n",
    "labels = ['Classe 1', 'Classe 2', 'Classe 3', 'Classe 4', 'Classe 5']\n",
    "\n",
    "# Création de la figure et de l'axe\n",
    "fig, ax = plt.subplots()\n",
    "\n",
    "# Affichage de la matrice de confusion avec imshow()\n",
    "ax.imshow(tableau, cmap='Blues')\n",
    "\n",
    "# Configuration des axes\n",
    "ax.set_xticks(np.arange(len(labels)))\n",
    "ax.set_yticks(np.arange(len(labels)))\n",
    "ax.set_xticklabels(labels)\n",
    "ax.set_yticklabels(labels)\n",
    "plt.setp(ax.get_xticklabels(), rotation=45, ha=\"right\", rotation_mode=\"anchor\")\n",
    "\n",
    "# Affichage des valeurs dans les cellules\n",
    "for i in range(len(tableau)):\n",
    "    for j in range(len(tableau)):\n",
    "        ax.text(j, i, tableau[i, j], ha=\"center\", va=\"center\", color=\"w\")\n",
    "\n",
    "# Titre et labels des axes\n",
    "ax.set_title(\"Matrice de Confusion\")\n",
    "ax.set_xlabel(\"Valeurs Prédites\")\n",
    "ax.set_ylabel(\"Valeurs Réelles\")\n",
    "\n",
    "# Affichage de la figure\n",
    "plt.show()"
   ]
  },
  {
   "cell_type": "code",
   "execution_count": 254,
   "id": "eca2a7ff-be52-42ad-8687-f6b5e5f67936",
   "metadata": {},
   "outputs": [
    {
     "data": {
      "text/plain": [
       "array([[  0.,   4.,   0.,   0., 496.],\n",
       "       [  0.,   5.,   0., 495.,   0.],\n",
       "       [500.,   0.,   0.,   0.,   0.],\n",
       "       [  0., 489.,   0.,   2.,   9.],\n",
       "       [  0.,   0., 499.,   1.,   0.]])"
      ]
     },
     "execution_count": 254,
     "metadata": {},
     "output_type": "execute_result"
    }
   ],
   "source": [
    "tableau"
   ]
  },
  {
   "cell_type": "code",
   "execution_count": 257,
   "id": "590177f0-5b3a-49a0-915e-2d7ac29b9ee1",
   "metadata": {},
   "outputs": [
    {
     "data": {
      "text/plain": [
       "5.0"
      ]
     },
     "execution_count": 257,
     "metadata": {},
     "output_type": "execute_result"
    }
   ],
   "source": [
    "tableau[1][1]"
   ]
  },
  {
   "cell_type": "code",
   "execution_count": null,
   "id": "9838c55c-e319-4655-bc2e-e264ab9467c3",
   "metadata": {},
   "outputs": [],
   "source": []
  }
 ],
 "metadata": {
  "kernelspec": {
   "display_name": "Python 3 (ipykernel)",
   "language": "python",
   "name": "python3"
  },
  "language_info": {
   "codemirror_mode": {
    "name": "ipython",
    "version": 3
   },
   "file_extension": ".py",
   "mimetype": "text/x-python",
   "name": "python",
   "nbconvert_exporter": "python",
   "pygments_lexer": "ipython3",
   "version": "3.10.9"
  }
 },
 "nbformat": 4,
 "nbformat_minor": 5
}
